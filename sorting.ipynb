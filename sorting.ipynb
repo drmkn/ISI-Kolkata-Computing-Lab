{
 "cells": [
  {
   "cell_type": "markdown",
   "metadata": {},
   "source": [
    "Sorting Algorithms"
   ]
  },
  {
   "cell_type": "code",
   "execution_count": 1,
   "metadata": {},
   "outputs": [],
   "source": [
    "import time"
   ]
  },
  {
   "cell_type": "markdown",
   "metadata": {},
   "source": [
    "1.  Insertion Sort"
   ]
  },
  {
   "cell_type": "code",
   "execution_count": 2,
   "metadata": {},
   "outputs": [],
   "source": [
    "def insertion_sort(arr):\n",
    "    for i in range(1,len(arr)):\n",
    "        key = arr[i]\n",
    "        j = i-1\n",
    "        #shift elements to right which are greater than the current key\n",
    "        while j>=0 and arr[j] > key:\n",
    "            arr[j+1] = arr[j]\n",
    "            j = j-1\n",
    "        arr[j+1] = key    \n"
   ]
  },
  {
   "cell_type": "markdown",
   "metadata": {},
   "source": [
    "Time Complexity\n",
    "    1. Worst Case - O(N^2) for reverse sorted array\n",
    "    2. Best Case - O(N) for sorted array (only N-1 comparisons)\n",
    "    3. Average Case - O(N^2)"
   ]
  },
  {
   "cell_type": "code",
   "execution_count": 3,
   "metadata": {},
   "outputs": [
    {
     "name": "stdout",
     "output_type": "stream",
     "text": [
      "original array :\n",
      "[2, 1, 3, 7, 5, 4, 6, 5, 6, 4]\n",
      "sorted array :\n",
      "[1, 2, 3, 4, 4, 5, 5, 6, 6, 7]\n",
      "Total runtime of the algorithm is 1.000432014465332\n"
     ]
    }
   ],
   "source": [
    "arr = [2,1,3,7,5,4,6,5,6,4]\n",
    "print(\"original array :\")\n",
    "print(arr)\n",
    "\n",
    "begin  = time.time()\n",
    "insertion_sort(arr)\n",
    "time.sleep(1) \n",
    "# store end time \n",
    "end = time.time()  \n",
    " \n",
    "print(\"sorted array :\")\n",
    "print(arr)\n",
    "\n",
    "print(f\"Total runtime of the algorithm is {end - begin}\")"
   ]
  },
  {
   "cell_type": "markdown",
   "metadata": {},
   "source": [
    "2. Bubble Sort"
   ]
  },
  {
   "cell_type": "code",
   "execution_count": 4,
   "metadata": {},
   "outputs": [],
   "source": [
    "def bubble_sort(arr):\n",
    "    for i in range(len(arr)-1):\n",
    "        swapped = 0\n",
    "        for j in range(len(arr)-i-1):\n",
    "            if arr[j] > arr[j+1]:\n",
    "                arr[j],arr[j+1] = arr[j+1],arr[j]\n",
    "                swapped = 1\n",
    "        if swapped == 0:\n",
    "            break      "
   ]
  },
  {
   "cell_type": "markdown",
   "metadata": {},
   "source": [
    "Time Complexity\n",
    "    1. Worst Case - O(N^2) for reverse sorted array\n",
    "    2. Best Case - O(N) for sorted array (only N-1 comparisons)\n",
    "    3. Average Case - O(N^2)"
   ]
  },
  {
   "cell_type": "code",
   "execution_count": 5,
   "metadata": {},
   "outputs": [
    {
     "name": "stdout",
     "output_type": "stream",
     "text": [
      "[1, 2, 3, 4, 4, 5, 5, 6, 6, 7]\n"
     ]
    }
   ],
   "source": [
    "arr = [2,1,3,7,5,4,6,5,6,4]\n",
    "bubble_sort(arr)\n",
    "print(arr)"
   ]
  },
  {
   "cell_type": "markdown",
   "metadata": {},
   "source": [
    "3. Selection Sort"
   ]
  },
  {
   "cell_type": "markdown",
   "metadata": {},
   "source": [
    "Time Complexity\n",
    "    1. Worst Case - O(N^2) for reverse sorted array\n",
    "    2. Best Case - O(N^2)\n",
    "    3. Average Case - O(N^2)"
   ]
  },
  {
   "cell_type": "code",
   "execution_count": 6,
   "metadata": {},
   "outputs": [],
   "source": [
    "def selection_sort(arr):\n",
    "    for i in range(len(arr)-1):\n",
    "        min_index = i\n",
    "        for j in range(len(arr)-i-1):\n",
    "            if arr[i] > arr[j]:\n",
    "                min_index = j\n",
    "        if min_index != i:        \n",
    "            arr[i] = arr[min_index]    \n"
   ]
  },
  {
   "cell_type": "code",
   "execution_count": 20,
   "metadata": {},
   "outputs": [
    {
     "name": "stdout",
     "output_type": "stream",
     "text": [
      "[1, 2, 3, 4, 4, 5, 5, 6, 6, 7]\n"
     ]
    }
   ],
   "source": [
    "arr = [2,1,3,7,5,4,6,5,6,4]\n",
    "insertion_sort(arr)\n",
    "print(arr)"
   ]
  },
  {
   "cell_type": "markdown",
   "metadata": {},
   "source": [
    "4. Merge Sort"
   ]
  },
  {
   "cell_type": "code",
   "execution_count": 38,
   "metadata": {},
   "outputs": [],
   "source": [
    "def merge_sort(A):\n",
    "    if len(A) > 1:\n",
    "        q = len(A)//2\n",
    "        L = A[:q]\n",
    "        R = A[q:]\n",
    "\n",
    "        merge_sort(L)\n",
    "        merge_sort(R)\n",
    "\n",
    "        i,j,k = 0,0,0\n",
    "        n1,n2 = len(L),len(R)\n",
    "        while i < n1 and j < n2:\n",
    "            if L[i] <= R[j]:\n",
    "                A[k] = L[i]\n",
    "                i += 1\n",
    "            else:\n",
    "                A[k] = R[j]\n",
    "                j += 1\n",
    "            k += 1     \n",
    "\n",
    "        while i < n1: #if R has been copied fully\n",
    "            A[k] = L[i]\n",
    "            i += 1\n",
    "            k += 1\n",
    "\n",
    "        while j < n2: #if L has been copied fully\n",
    "            A[k] = R[j]\n",
    "            j += 1\n",
    "            k += 1      \n",
    "                    \n",
    "        \n",
    "             "
   ]
  },
  {
   "cell_type": "markdown",
   "metadata": {},
   "source": [
    "5. Quick Sort"
   ]
  },
  {
   "cell_type": "code",
   "execution_count": 42,
   "metadata": {},
   "outputs": [],
   "source": [
    "def quick_sort(A,low,high):\n",
    "    if low < high:\n",
    "        pivot = A[high]\n",
    "        i = low - 1\n",
    "        for j in range(low,high):\n",
    "            if A[j] <= pivot:\n",
    "                i += 1\n",
    "                A[j],A[i] = A[i],A[j]\n",
    "        A[i+1],A[high] = A[high],A[i+1]\n",
    "\n",
    "        quick_sort(A,low,i)\n",
    "        quick_sort(A,i+1,high)    \n",
    "\n",
    "\n",
    "\n"
   ]
  },
  {
   "cell_type": "code",
   "execution_count": 44,
   "metadata": {},
   "outputs": [
    {
     "name": "stdout",
     "output_type": "stream",
     "text": [
      "[1, 2, 3, 4, 4, 5, 5, 6, 6, 7]\n"
     ]
    }
   ],
   "source": [
    "arr = [2,1,3,7,5,4,6,5,6,4]\n",
    "quick_sort(arr,0,len(arr)-1)\n",
    "print(arr)"
   ]
  },
  {
   "cell_type": "code",
   "execution_count": null,
   "metadata": {},
   "outputs": [],
   "source": []
  }
 ],
 "metadata": {
  "kernelspec": {
   "display_name": "Python 3",
   "language": "python",
   "name": "python3"
  },
  "language_info": {
   "codemirror_mode": {
    "name": "ipython",
    "version": 3
   },
   "file_extension": ".py",
   "mimetype": "text/x-python",
   "name": "python",
   "nbconvert_exporter": "python",
   "pygments_lexer": "ipython3",
   "version": "3.10.12"
  },
  "orig_nbformat": 4
 },
 "nbformat": 4,
 "nbformat_minor": 2
}
